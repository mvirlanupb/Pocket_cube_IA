{
 "cells": [
  {
   "cell_type": "code",
   "execution_count": 12,
   "id": "c8833c5e",
   "metadata": {},
   "outputs": [],
   "source": [
    "from helpers import *\n",
    "from heapq import heappush,heappop,heapify\n",
    "import random\n",
    "from tests import case1,case2,case3,case4\n",
    "import time\n",
    "import matplotlib.pyplot as plt\n",
    "%matplotlib inline"
   ]
  },
  {
   "cell_type": "markdown",
   "id": "97991b51",
   "metadata": {},
   "source": [
    "Implementăm algoritmul A*. Pentru starea curentă, selectăm din cele 6 stări vecine, cea care ne dă valoarea funcției f cea mai mică"
   ]
  },
  {
   "cell_type": "code",
   "execution_count": 64,
   "id": "47c75d34",
   "metadata": {},
   "outputs": [],
   "source": [
    "def a_star(given_moves:str,heuristic):\n",
    "    priority_queue=[]\n",
    "    initial_cube=Cube(given_moves)\n",
    "    initial_state=initial_cube.state\n",
    "    goal_state=initial_cube.goal_state\n",
    "    heappush(priority_queue,(heuristic(initial_state,initial_cube.goal_state),tuple(initial_state)))\n",
    "    dictionary_g_function={}\n",
    "    dictionary_g_function={tuple(initial_state) : 0}\n",
    "    total_number_of_discovered_states=0\n",
    "    parents={}\n",
    "    parents[tuple(initial_state)]=None\n",
    "    discovered_states={}\n",
    "    in_priority_queue={tuple(initial_state):None}\n",
    "    while priority_queue!=[]:\n",
    "        (f_value,current_state)=heappop(priority_queue)\n",
    "        total_number_of_discovered_states += 1\n",
    "        if(list(current_state)==initial_cube.goal_state.tolist()):\n",
    "            return total_number_of_discovered_states,f_value\n",
    "        current_state_array=np.array(current_state)\n",
    "        current_g_value=dictionary_g_function[current_state]\n",
    "        current_state_tuple=tuple(current_state_array)\n",
    "        discovered_states[current_state_tuple]=True\n",
    "        in_priority_queue.pop(current_state_tuple)\n",
    "        for move_number in range(6):\n",
    "            neigh_state=Cube.move_state(current_state_array,move_number)\n",
    "            neigh_state_tuple=tuple(neigh_state)\n",
    "            if(parents[current_state_tuple]==neigh_state_tuple):\n",
    "                continue\n",
    "            h_value=heuristic(neigh_state,goal_state)\n",
    "            new_g_value=current_g_value+1\n",
    "            f=new_g_value+h_value\n",
    "            if(neigh_state_tuple not in dictionary_g_function):\n",
    "                dictionary_g_function[neigh_state_tuple]=new_g_value\n",
    "                parents[neigh_state_tuple]=current_state_tuple\n",
    "                heappush(priority_queue,(f,neigh_state_tuple))\n",
    "                in_priority_queue[neigh_state_tuple]=None\n",
    "            else:\n",
    "                if(new_g_value < dictionary_g_function[neigh_state_tuple]):\n",
    "                    if(neigh_state_tuple in in_priority_queue):\n",
    "                        old_g= dictionary_g_function[neigh_state_tuple]\n",
    "                        index_current_neigh_state=priority_queue.index((old_g+h_value,\n",
    "                                                                        neigh_state_tuple))\n",
    "                        priority_queue[index_current_neigh_state] = (f,neigh_state_tuple)\n",
    "                        heapify(priority_queue)\n",
    "                    else:\n",
    "                        heappush(priority_queue,(f,neigh_state_tuple))\n",
    "                        in_priority_queue[neigh_state_tuple]=None\n",
    "                        parents[neigh_state_tuple]=current_state_tuple\n",
    "                    dictionary_g_function[neigh_state_tuple] = new_g_value"
   ]
  },
  {
   "cell_type": "code",
   "execution_count": 3,
   "id": "30ba62c2",
   "metadata": {},
   "outputs": [],
   "source": [
    "def bidirectional_bfs(given_moves:str):\n",
    "    initial_cube=Cube(given_moves)\n",
    "    queue=Queue()\n",
    "    queue.put((initial_cube.state,\"Start\",0))\n",
    "    queue.put((initial_cube.goal_state,\"End\",0))\n",
    "    discovered_states={}\n",
    "    parents={tuple(initial_cube.state):None,tuple(initial_cube.goal_state):None}\n",
    "    found_common_point=False\n",
    "    total_number_of_discovered_states=0\n",
    "    while(queue.empty()==False):\n",
    "        current_state,direction,distance=queue.get()\n",
    "        current_state_tuple=tuple(current_state)\n",
    "        discovered_states[current_state_tuple]=(direction,distance)\n",
    "        total_number_of_discovered_states += 1\n",
    "        for move_number in range(6):\n",
    "            neigh_state=Cube.move_state(current_state,move_number)\n",
    "            neigh_state_tuple=tuple(neigh_state)\n",
    "            if(parents[current_state_tuple]==neigh_state_tuple):\n",
    "                continue\n",
    "            if(neigh_state_tuple not in discovered_states):\n",
    "                queue.put((neigh_state,direction,distance+1))\n",
    "                parents[neigh_state_tuple]=current_state_tuple\n",
    "            else:\n",
    "                current_dictionary_direction,given_distance=discovered_states[neigh_state_tuple]\n",
    "                if(direction!=current_dictionary_direction):\n",
    "                    return total_number_of_discovered_states,given_distance+distance+1\n",
    "                else:\n",
    "                    continue"
   ]
  },
  {
   "cell_type": "code",
   "execution_count": 65,
   "id": "cc88aa25",
   "metadata": {},
   "outputs": [],
   "source": [
    "def metrics_two_algorithms(case:str):\n",
    "    start_time_a_star=time.time()\n",
    "    states_a_star,cost_a_star=a_star(case,h1)\n",
    "    end_time_a_star=time.time()\n",
    "    time_a_star=end_time_a_star-start_time_a_star\n",
    "    start_time_bidirectional_bfs=time.time()\n",
    "    states_bfs,cost_bfs=bidirectional_bfs(case)\n",
    "    end_time_bidirectional_bfs=time.time()\n",
    "    time_bfs=end_time_bidirectional_bfs-start_time_bidirectional_bfs\n",
    "    return [time_a_star,states_a_star,cost_a_star],[time_bfs,states_bfs,cost_bfs]"
   ]
  },
  {
   "cell_type": "code",
   "execution_count": 66,
   "id": "3d9026b0",
   "metadata": {},
   "outputs": [],
   "source": [
    "times_a_star,times_bidir_bfs=[],[]\n",
    "states_a_star,states_bidir_bfs=[],[]\n",
    "solution_length_a_star,solution_length_bidir_bfs=[],[]\n",
    "for case in [case1,case2,case3,case4]:\n",
    "    a_star_results,bidir_bfs_results=metrics_two_algorithms(case)\n",
    "    times_a_star.append(a_star_results[0]*1000)\n",
    "    times_bidir_bfs.append(bidir_bfs_results[0]*1000)\n",
    "    states_a_star.append(a_star_results[1])\n",
    "    states_bidir_bfs.append(bidir_bfs_results[1])\n",
    "    solution_length_a_star.append(a_star_results[2])\n",
    "    solution_length_bidir_bfs.append(bidir_bfs_results[2])"
   ]
  },
  {
   "cell_type": "code",
   "execution_count": 67,
   "id": "c43f73f3",
   "metadata": {},
   "outputs": [
    {
     "data": {
      "image/png": "[encoded data removed]",
      "text/plain": [
       "<Figure size 640x480 with 1 Axes>"
      ]
     },
     "metadata": {},
     "output_type": "display_data"
    }
   ],
   "source": [
    "fig,ax=plt.subplots()\n",
    "ax.bar(np.arange(4),np.array(times_a_star),label=\"A*\",width=0.25)\n",
    "ax.bar(np.arange(4)+0.25,np.array(times_bidir_bfs),label=\"Bidirectional BFS\",width=0.25)\n",
    "ax.set_xticks(np.arange(4)+0.125,np.array([\"case1\",\"case2\",\"case3\",\"case4\"]))\n",
    "ax.set_ylabel(\"Timp(ms)\")\n",
    "ax.legend()\n",
    "plt.yscale('log')\n",
    "plt.show()"
   ]
  },
  {
   "cell_type": "code",
   "execution_count": 68,
   "id": "265ef9ed",
   "metadata": {},
   "outputs": [
    {
     "data": {
      "image/png": "[encoded data removed]",
      "text/plain": [
       "<Figure size 640x480 with 1 Axes>"
      ]
     },
     "metadata": {},
     "output_type": "display_data"
    }
   ],
   "source": [
    "fig,ax=plt.subplots()\n",
    "ax.bar(np.arange(4),np.array(states_a_star),label=\"A*\",width=0.25)\n",
    "ax.bar(np.arange(4)+0.25,np.array(states_bidir_bfs),label=\"Bidirectional BFS\",width=0.25)\n",
    "ax.set_xticks(np.arange(4)+0.125,np.array([\"case1\",\"case2\",\"case3\",\"case4\"]))\n",
    "ax.set_ylabel(\"Numar de stari\")\n",
    "ax.legend()\n",
    "plt.yscale('log')\n",
    "plt.show()"
   ]
  },
  {
   "cell_type": "code",
   "execution_count": 73,
   "id": "66883759",
   "metadata": {},
   "outputs": [
    {
     "data": {
      "image/png": "[encoded data removed]",
      "text/plain": [
       "<Figure size 640x480 with 1 Axes>"
      ]
     },
     "metadata": {},
     "output_type": "display_data"
    }
   ],
   "source": [
    "fig,ax=plt.subplots()\n",
    "ax.bar(np.arange(4),np.array(solution_length_a_star),label=\"A*\",width=0.25)\n",
    "ax.bar(np.arange(4)+0.25,np.array(solution_length_bidir_bfs),label=\"Bidirectional BFS\",width=0.25)\n",
    "ax.set_xticks(np.arange(4)+0.125,np.array([\"case1\",\"case2\",\"case3\",\"case4\"]))\n",
    "ax.set_ylabel(\"Lungimea drumului\")\n",
    "ax.set_yticks(np.arange(12))\n",
    "ax.legend()\n",
    "plt.show()"
   ]
  },
  {
   "cell_type": "code",
   "execution_count": 82,
   "id": "0e04901d",
   "metadata": {},
   "outputs": [
    {
     "data": {
      "text/plain": [
       "2.3487772201853883"
      ]
     },
     "execution_count": 82,
     "metadata": {},
     "output_type": "execute_result"
    }
   ],
   "source": [
    "\"\"\"\n",
    "Avem de rezolvat ecuatia (b*)^(d+1)-1=(b*-1)*(N+1)\n",
    "\n",
    "\"\"\"\n",
    "def newton_raphson(path_length,number_of_states):\n",
    "    x_0=6\n",
    "    while True:\n",
    "        x=x_0-(x_0**(path_length+1)-1-number_of_states*(x_0-1))/((path_length+1)*(x_0**path_length)-number_of_states)\n",
    "        if(abs(x-x_0)<1e-5):\n",
    "            return x\n",
    "        x_0=x\n",
    "newton_raphson(solution_length_a_star[3],states_a_star[3])"
   ]
  },
  {
   "cell_type": "code",
   "execution_count": 90,
   "id": "a6007dff",
   "metadata": {},
   "outputs": [
    {
     "data": {
      "text/plain": [
       "(30, 5.0, 11.989831924438477)"
      ]
     },
     "execution_count": 90,
     "metadata": {},
     "output_type": "execute_result"
    }
   ],
   "source": [
    "states_a_star[0],solution_length_a_star[0],times_a_star[0]"
   ]
  },
  {
   "cell_type": "code",
   "execution_count": 91,
   "id": "472d838e",
   "metadata": {},
   "outputs": [
    {
     "data": {
      "text/plain": [
       "(109, 7.0, 26.035547256469727)"
      ]
     },
     "execution_count": 91,
     "metadata": {},
     "output_type": "execute_result"
    }
   ],
   "source": [
    "states_a_star[1],solution_length_a_star[1],times_a_star[1]"
   ]
  },
  {
   "cell_type": "code",
   "execution_count": 92,
   "id": "c22fcb86",
   "metadata": {},
   "outputs": [
    {
     "data": {
      "text/plain": [
       "(3145, 9.0, 768.9988613128662)"
      ]
     },
     "execution_count": 92,
     "metadata": {},
     "output_type": "execute_result"
    }
   ],
   "source": [
    "states_a_star[2],solution_length_a_star[2],times_a_star[2]"
   ]
  },
  {
   "cell_type": "code",
   "execution_count": 93,
   "id": "e396869f",
   "metadata": {},
   "outputs": [
    {
     "data": {
      "text/plain": [
       "(20900, 11.0, 5645.99871635437)"
      ]
     },
     "execution_count": 93,
     "metadata": {},
     "output_type": "execute_result"
    }
   ],
   "source": [
    "states_a_star[3],solution_length_a_star[3],times_a_star[3]"
   ]
  }
 ],
 "metadata": {
  "kernelspec": {
   "display_name": "Python 3 (ipykernel)",
   "language": "python",
   "name": "python3"
  },
  "language_info": {
   "codemirror_mode": {
    "name": "ipython",
    "version": 3
   },
   "file_extension": ".py",
   "mimetype": "text/x-python",
   "name": "python",
   "nbconvert_exporter": "python",
   "pygments_lexer": "ipython3",
   "version": "3.10.13"
  }
 },
 "nbformat": 4,
 "nbformat_minor": 5
}
