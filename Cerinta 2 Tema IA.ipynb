{
 "cells": [
  {
   "cell_type": "code",
   "execution_count": null,
   "id": "113d9454",
   "metadata": {},
   "outputs": [],
   "source": [
    "from helpers import h1\n",
    "from pocket_cube.cube import Cube\n",
    "from pocket_cube.constants import CORNERS\n",
    "from tests import case1,case2,case3,case4\n",
    "from math import log,sqrt\n",
    "from random import choice\n",
    "from copy import deepcopy,copy\n",
    "import numpy as np\n",
    "from pocket_cube.moves import Move\n",
    "import numpy as np\n",
    "import time"
   ]
  },
  {
   "cell_type": "code",
   "execution_count": 2,
   "id": "57f6d900",
   "metadata": {},
   "outputs": [],
   "source": [
    "# Constante\n",
    "\n",
    "N = 'N'\n",
    "Q = 'Q'\n",
    "PARENT = 'parent'\n",
    "ACTIONS = 'actions'"
   ]
  },
  {
   "cell_type": "code",
   "execution_count": 3,
   "id": "c8e8c2b0",
   "metadata": {},
   "outputs": [],
   "source": [
    "# Funcție ce întoarce un nod nou,\n",
    "def init_node(parent = None):\n",
    "    return {N: 0, Q: 0, PARENT: parent, ACTIONS: {}}"
   ]
  },
  {
   "cell_type": "code",
   "execution_count": 4,
   "id": "b4ce865f",
   "metadata": {},
   "outputs": [],
   "source": [
    "def select_action(node, c):\n",
    "    N_node = node[N]\n",
    "    actions_dictionary=node[ACTIONS]\n",
    "    maximum_expression=None\n",
    "    action_result=None\n",
    "    for action_id,child_node in actions_dictionary.items():\n",
    "        quality_child_node=child_node[Q]\n",
    "        simulations_child_node=child_node[N]\n",
    "        expr_result=quality_child_node/simulations_child_node+c*sqrt(2*log(N_node)/simulations_child_node)\n",
    "        if(maximum_expression==None):\n",
    "            maximum_expression=expr_result\n",
    "            action_result=action_id\n",
    "        else:\n",
    "            if(expr_result > maximum_expression):\n",
    "                maximum_expression=expr_result\n",
    "                action_result=action_id\n",
    "    return action_result"
   ]
  },
  {
   "cell_type": "code",
   "execution_count": 5,
   "id": "ef5a58ab",
   "metadata": {},
   "outputs": [],
   "source": [
    "def get_available_actions(current_state:np.ndarray,discovered_states:dict):\n",
    "    available_actions=[]\n",
    "    for move_number in range(6):\n",
    "        new_state=Cube.move_state(current_state,move_number)\n",
    "        if(tuple(new_state) not in discovered_states):\n",
    "            available_actions.append(move_number)\n",
    "    return available_actions"
   ]
  },
  {
   "cell_type": "code",
   "execution_count": 6,
   "id": "e2e139b5",
   "metadata": {},
   "outputs": [],
   "source": [
    "def mcts(initial_state:np.ndarray,budget,c,final_state:np.ndarray,heuristic):\n",
    "    tree = init_node()\n",
    "    reached_final_state=False\n",
    "    number_of_states=1\n",
    "    discovered_states={tuple(initial_state):True}\n",
    "    path_length=0\n",
    "    can_break_budget_loop=False\n",
    "    for i in range(budget):\n",
    "        node = tree\n",
    "        current_state=initial_state\n",
    "        number_of_moves=0\n",
    "        budget_path_length=0\n",
    "        \"\"\"\n",
    "        Etapa de tree policy:\n",
    "        cat timp nu am ajuns inca la un nod frunza\n",
    "        daca la starea curenta nu avem toate nodurile expandate ne oprim\n",
    "        altfel, alegem cel mai bun nod\n",
    "        \"\"\"\n",
    "        while(node[ACTIONS]!={}):\n",
    "            if(get_available_actions(current_state,discovered_states)!=[]):\n",
    "                break\n",
    "            best_move=select_action(node,c)\n",
    "            current_state=Cube.move_state(current_state,best_move)\n",
    "            node=node[ACTIONS][best_move]\n",
    "            budget_path_length +=1\n",
    "        \"\"\"\n",
    "        Construim un nod pe baza unei actiuni alese aleator. \n",
    "        Trebuie sa nu fim in starea finala si sa mai avem noduri de explorat\n",
    "        \"\"\"\n",
    "        available_actions=get_available_actions(current_state,discovered_states)\n",
    "        if((current_state.tolist()!=final_state.tolist()) and available_actions):\n",
    "            random_move=choice(available_actions)\n",
    "            child_node=init_node(node)\n",
    "            current_state=Cube.move_state(current_state,random_move)\n",
    "            node[ACTIONS][random_move]=child_node\n",
    "            node=child_node\n",
    "            number_of_states +=1\n",
    "            discovered_states[tuple(current_state)]=True\n",
    "            budget_path_length +=1\n",
    "        if(current_state.tolist()==final_state.tolist()):\n",
    "            reached_final_state=True\n",
    "            path_length=budget_path_length\n",
    "        \"\"\"\n",
    "        Etapa default policy\n",
    "        Din nodul curent se simuleaza jocul, alegandu-se mutari in mod aleator\n",
    "        \"\"\"\n",
    "        maximum_value_reward=0\n",
    "        rollout_discovered_states=copy(discovered_states)\n",
    "        while((current_state.tolist()!=final_state.tolist()) and (number_of_moves<14)):\n",
    "            maximum_value_reward=max(maximum_value_reward,8.5-heuristic(current_state,final_state))\n",
    "            available_actions=get_available_actions(current_state,rollout_discovered_states)\n",
    "            if(available_actions==[]):\n",
    "                break\n",
    "            random_move=choice(available_actions)\n",
    "            current_state=Cube.move_state(current_state,random_move)\n",
    "            number_of_moves +=1\n",
    "            number_of_states+=1\n",
    "            rollout_discovered_states[tuple(current_state)]=True\n",
    "        maximum_value_reward=max(maximum_value_reward,8.5-heuristic(current_state,final_state))\n",
    "        reward=maximum_value_reward\n",
    "        while(node!=None):\n",
    "            node[N] += 1\n",
    "            node[Q] +=reward\n",
    "            node=node[PARENT]\n",
    "        if(reached_final_state==True):\n",
    "            break\n",
    "    if(reached_final_state):\n",
    "        return number_of_states,path_length\n",
    "    return None,None"
   ]
  },
  {
   "cell_type": "code",
   "execution_count": 7,
   "id": "285a372b",
   "metadata": {},
   "outputs": [],
   "source": [
    "def run_mcts(budget,c,iterations,case,heuristic):\n",
    "    sum_path_length,sum_number_of_states,sum_total_time=0,0,0\n",
    "    successes=0\n",
    "    for i in range(iterations):\n",
    "        start_time=time.time()\n",
    "        number_of_states,path_length=mcts(Cube(case).state,budget,c,Cube(case).goal_state,heuristic)\n",
    "        end_time=time.time()\n",
    "        if(number_of_states and path_length):\n",
    "            sum_total_time += (end_time-start_time)\n",
    "            sum_path_length += path_length\n",
    "            sum_number_of_states+=number_of_states\n",
    "            successes+=1\n",
    "    if(successes!=0):\n",
    "        return sum_total_time/successes,sum_path_length/successes,sum_number_of_states/successes\n",
    "    return None\n",
    "\n",
    "def get_measurements(heuristic):\n",
    "    measurements_array=np.zeros((4,3,2,4))\n",
    "    for k,case in enumerate([case1,case2,case3,case4]):\n",
    "        for i,c in enumerate([0.1,0.5]):\n",
    "            for j,budget in enumerate([1000,5000,10000,20000]):\n",
    "                result_mcts=run_mcts(budget,c,25,case,heuristic)\n",
    "                if(result_mcts):\n",
    "                    measurements_array[k][0][i][j]=result_mcts[0]\n",
    "                    measurements_array[k][1][i][j]=result_mcts[1]\n",
    "                    measurements_array[k][2][i][j]=result_mcts[2]\n",
    "    return measurements_array"
   ]
  },
  {
   "cell_type": "code",
   "execution_count": 8,
   "id": "3733f9dc",
   "metadata": {
    "scrolled": true
   },
   "outputs": [],
   "source": [
    "measurements_array_h1=get_measurements(h1)"
   ]
  },
  {
   "cell_type": "code",
   "execution_count": 25,
   "id": "5f2791fd",
   "metadata": {},
   "outputs": [
    {
     "data": {
      "text/plain": [
       "array([[ 3042.5       , 15342.30434783, 16842.95454545, 43497.76      ],\n",
       "       [ 3492.24      ,  2881.72      ,  3250.4       ,  3317.56      ]])"
      ]
     },
     "execution_count": 25,
     "metadata": {},
     "output_type": "execute_result"
    }
   ],
   "source": [
    "measurements_array_h1[0][2]"
   ]
  },
  {
   "cell_type": "code",
   "execution_count": 28,
   "id": "7ac1f3a0",
   "metadata": {},
   "outputs": [
    {
     "data": {
      "text/plain": [
       "array([[  5381.        ,  34608.2       ,  66704.        ,\n",
       "        118521.26666667],\n",
       "       [  8888.5       ,  30497.17647059,  32661.69565217,\n",
       "         28673.04      ]])"
      ]
     },
     "execution_count": 28,
     "metadata": {},
     "output_type": "execute_result"
    }
   ],
   "source": [
    "measurements_array_h1[1][2]"
   ]
  },
  {
   "cell_type": "code",
   "execution_count": 31,
   "id": "10afd5fe",
   "metadata": {},
   "outputs": [
    {
     "data": {
      "text/plain": [
       "array([[  9883.66666667,  22179.625     ,  64380.16666667,\n",
       "        121634.85714286],\n",
       "       [     0.        ,  36011.        ,  42258.1875    ,\n",
       "        109931.52      ]])"
      ]
     },
     "execution_count": 31,
     "metadata": {},
     "output_type": "execute_result"
    }
   ],
   "source": [
    "measurements_array_h1[2][2]"
   ]
  },
  {
   "cell_type": "code",
   "execution_count": 34,
   "id": "2f58c752",
   "metadata": {},
   "outputs": [
    {
     "data": {
      "text/plain": [
       "array([[  3980.75      ,  25452.        , 100726.11111111,\n",
       "        151946.        ],\n",
       "       [     0.        ,  19397.        ,      0.        ,\n",
       "        128147.        ]])"
      ]
     },
     "execution_count": 34,
     "metadata": {},
     "output_type": "execute_result"
    }
   ],
   "source": [
    "measurements_array_h1[3][2]"
   ]
  },
  {
   "cell_type": "code",
   "execution_count": 13,
   "id": "4e9ab365",
   "metadata": {},
   "outputs": [],
   "source": [
    "def h2(current_state:np.ndarray,final_state:np.ndarray):\n",
    "    result=0\n",
    "    for _,(indices,_) in CORNERS.items():\n",
    "        if(current_state[indices].tolist()!=final_state[indices].tolist()):\n",
    "            result += 1\n",
    "    return result\n",
    "measurements_array_h2=get_measurements(h2)"
   ]
  },
  {
   "cell_type": "code",
   "execution_count": 35,
   "id": "5a5ba70e",
   "metadata": {},
   "outputs": [
    {
     "data": {
      "text/plain": [
       "array([[ 379.0937337 , 2158.06903158, 4968.61105495, 8406.04752586],\n",
       "       [ 699.42053996, 1113.82616085, 2292.16013908, 1347.03988075]])"
      ]
     },
     "execution_count": 35,
     "metadata": {},
     "output_type": "execute_result"
    }
   ],
   "source": [
    "measurements_array_h2[0][0]*1000"
   ]
  },
  {
   "cell_type": "code",
   "execution_count": 36,
   "id": "e24f81ff",
   "metadata": {},
   "outputs": [
    {
     "data": {
      "text/plain": [
       "array([[ 6.45454545,  9.42857143, 13.55555556, 12.23809524],\n",
       "       [ 5.        ,  5.26086957,  5.4       ,  5.        ]])"
      ]
     },
     "execution_count": 36,
     "metadata": {},
     "output_type": "execute_result"
    }
   ],
   "source": [
    "measurements_array_h2[0][1]"
   ]
  },
  {
   "cell_type": "code",
   "execution_count": 37,
   "id": "eae98451",
   "metadata": {},
   "outputs": [
    {
     "data": {
      "text/plain": [
       "array([[ 3388.72727273, 16172.        , 33145.11111111, 51683.9047619 ],\n",
       "       [ 6497.10526316, 10169.        , 19879.64      , 11950.96      ]])"
      ]
     },
     "execution_count": 37,
     "metadata": {},
     "output_type": "execute_result"
    }
   ],
   "source": [
    "measurements_array_h2[0][2]"
   ]
  },
  {
   "cell_type": "code",
   "execution_count": 38,
   "id": "a0f4e347",
   "metadata": {},
   "outputs": [
    {
     "data": {
      "text/plain": [
       "array([[  635.00084877,  4518.88728142,  9228.63049805, 19911.78184748],\n",
       "       [  834.00111198,  4049.40162897,  3760.80936477,  5401.56002045]])"
      ]
     },
     "execution_count": 38,
     "metadata": {},
     "output_type": "execute_result"
    }
   ],
   "source": [
    "measurements_array_h2[1][0]*1000"
   ]
  },
  {
   "cell_type": "code",
   "execution_count": 39,
   "id": "4a562e16",
   "metadata": {},
   "outputs": [
    {
     "data": {
      "text/plain": [
       "array([[ 9.        , 21.5       , 22.375     , 24.375     ],\n",
       "       [ 7.        ,  8.1       ,  8.33333333,  7.64      ]])"
      ]
     },
     "execution_count": 39,
     "metadata": {},
     "output_type": "execute_result"
    }
   ],
   "source": [
    "measurements_array_h2[1][1]"
   ]
  },
  {
   "cell_type": "code",
   "execution_count": 40,
   "id": "6e770c8c",
   "metadata": {},
   "outputs": [
    {
     "data": {
      "text/plain": [
       "array([[  5051.6       ,  28864.        ,  55084.125     ,\n",
       "        106743.3125    ],\n",
       "       [  7612.4       ,  33993.65      ,  31756.33333333,\n",
       "         44424.52      ]])"
      ]
     },
     "execution_count": 40,
     "metadata": {},
     "output_type": "execute_result"
    }
   ],
   "source": [
    "measurements_array_h2[1][2]"
   ]
  },
  {
   "cell_type": "code",
   "execution_count": 41,
   "id": "cecc47af",
   "metadata": {},
   "outputs": [
    {
     "data": {
      "text/plain": [
       "array([[    0.        ,  4601.51425004, 15739.18520321, 26088.2647414 ],\n",
       "       [    0.        ,  4887.2897625 , 11202.46208631, 15144.2911307 ]])"
      ]
     },
     "execution_count": 41,
     "metadata": {},
     "output_type": "execute_result"
    }
   ],
   "source": [
    "measurements_array_h2[2][0]*1000"
   ]
  },
  {
   "cell_type": "code",
   "execution_count": 42,
   "id": "84544bc3",
   "metadata": {},
   "outputs": [
    {
     "data": {
      "text/plain": [
       "array([[ 0.        , 18.5       , 27.18181818, 31.94736842],\n",
       "       [ 0.        ,  9.85714286, 10.69230769, 11.4       ]])"
      ]
     },
     "execution_count": 42,
     "metadata": {},
     "output_type": "execute_result"
    }
   ],
   "source": [
    "measurements_array_h2[2][1]"
   ]
  },
  {
   "cell_type": "code",
   "execution_count": 43,
   "id": "53ff4d55",
   "metadata": {},
   "outputs": [
    {
     "data": {
      "text/plain": [
       "array([[     0.        ,  31652.75      ,  87532.72727273,\n",
       "        134133.05263158],\n",
       "       [     0.        ,  41379.85714286,  84834.        ,\n",
       "        113679.4       ]])"
      ]
     },
     "execution_count": 43,
     "metadata": {},
     "output_type": "execute_result"
    }
   ],
   "source": [
    "measurements_array_h2[2][2]"
   ]
  },
  {
   "cell_type": "code",
   "execution_count": 44,
   "id": "6b5eb9be",
   "metadata": {},
   "outputs": [
    {
     "data": {
      "text/plain": [
       "array([[    0.        ,  7056.66637421, 13538.56015205, 22300.69285173],\n",
       "       [    0.        ,  2691.03264809,  1721.00257874, 25532.31186867]])"
      ]
     },
     "execution_count": 44,
     "metadata": {},
     "output_type": "execute_result"
    }
   ],
   "source": [
    "measurements_array_h2[3][0]*1000"
   ]
  },
  {
   "cell_type": "code",
   "execution_count": 45,
   "id": "d754ec32",
   "metadata": {},
   "outputs": [
    {
     "data": {
      "text/plain": [
       "array([[ 0.        , 30.33333333, 29.90909091, 37.        ],\n",
       "       [ 0.        , 11.        , 13.        , 14.6       ]])"
      ]
     },
     "execution_count": 45,
     "metadata": {},
     "output_type": "execute_result"
    }
   ],
   "source": [
    "measurements_array_h2[3][1]"
   ]
  },
  {
   "cell_type": "code",
   "execution_count": 46,
   "id": "9bdc3883",
   "metadata": {},
   "outputs": [
    {
     "data": {
      "text/plain": [
       "array([[     0.        ,  39847.        ,  70301.18181818,\n",
       "        105263.61538462],\n",
       "       [     0.        ,  22674.        ,  14704.        ,\n",
       "        166703.8       ]])"
      ]
     },
     "execution_count": 46,
     "metadata": {},
     "output_type": "execute_result"
    }
   ],
   "source": [
    "measurements_array_h2[3][2]"
   ]
  }
 ],
 "metadata": {
  "kernelspec": {
   "display_name": "Python 3 (ipykernel)",
   "language": "python",
   "name": "python3"
  },
  "language_info": {
   "codemirror_mode": {
    "name": "ipython",
    "version": 3
   },
   "file_extension": ".py",
   "mimetype": "text/x-python",
   "name": "python",
   "nbconvert_exporter": "python",
   "pygments_lexer": "ipython3",
   "version": "3.10.13"
  }
 },
 "nbformat": 4,
 "nbformat_minor": 5
}
