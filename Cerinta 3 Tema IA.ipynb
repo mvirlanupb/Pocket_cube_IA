{
 "cells": [
  {
   "cell_type": "code",
   "execution_count": 1,
   "id": "30c11e54",
   "metadata": {},
   "outputs": [],
   "source": [
    "from helpers import h1\n",
    "from queue import Queue\n",
    "from pocket_cube.cube import Cube\n",
    "from pocket_cube.moves import Move\n",
    "from tests import *\n",
    "import numpy as np\n",
    "import time\n",
    "from heapq import heappush,heappop,heapify\n",
    "import matplotlib.pyplot as plt\n",
    "from random import choice\n",
    "from copy import copy\n",
    "from math import log,sqrt\n",
    "%matplotlib inline"
   ]
  },
  {
   "cell_type": "code",
   "execution_count": 2,
   "id": "e5b83a69",
   "metadata": {},
   "outputs": [
    {
     "name": "stdout",
     "output_type": "stream",
     "text": [
      "CPU times: total: 6.16 s\n",
      "Wall time: 6.17 s\n"
     ]
    }
   ],
   "source": [
    "%%time\n",
    "pattern_database={}\n",
    "final_state=Cube().goal_state\n",
    "queue=Queue()\n",
    "queue.put((final_state,0))\n",
    "discovered_states={}\n",
    "parent_dict={tuple(final_state):None}\n",
    "while(queue.empty()==False):\n",
    "    current_state,distance=queue.get()\n",
    "    current_state_tuple=tuple(current_state)\n",
    "    pattern_database[current_state_tuple]=distance\n",
    "    discovered_states[current_state_tuple]=True\n",
    "    for move_number in range(6):\n",
    "        neighbor_state=Cube.move_state(current_state,move_number)\n",
    "        neighbor_state_tuple=tuple(neighbor_state)\n",
    "        if(parent_dict[current_state_tuple]==neighbor_state_tuple):\n",
    "            continue\n",
    "        if(neighbor_state_tuple in discovered_states):\n",
    "            continue\n",
    "        if(distance<=6):\n",
    "            parent_dict[neighbor_state_tuple]=current_state_tuple\n",
    "            queue.put((neighbor_state,distance+1))"
   ]
  },
  {
   "cell_type": "code",
   "execution_count": 3,
   "id": "254b53a2",
   "metadata": {},
   "outputs": [],
   "source": [
    "def h3(current_state:np.ndarray,final_state:np.ndarray):\n",
    "    if(tuple(current_state) in pattern_database):\n",
    "        return pattern_database[tuple(current_state)]*1.0\n",
    "    return h1(current_state,final_state)"
   ]
  },
  {
   "cell_type": "code",
   "execution_count": 30,
   "id": "67f0f67e",
   "metadata": {},
   "outputs": [],
   "source": [
    "def a_star(given_moves:str,heuristic):\n",
    "    priority_queue=[]\n",
    "    initial_cube=Cube(given_moves)\n",
    "    initial_state=initial_cube.state\n",
    "    goal_state=initial_cube.goal_state\n",
    "    heappush(priority_queue,(heuristic(initial_state,initial_cube.goal_state),tuple(initial_state)))\n",
    "    dictionary_g_function={}\n",
    "    dictionary_g_function={tuple(initial_state) : 0}\n",
    "    total_number_of_discovered_states=0\n",
    "    parents={}\n",
    "    parents[tuple(initial_state)]=None\n",
    "    in_priority_queue={tuple(initial_state):None}\n",
    "    while priority_queue!=[]:\n",
    "        (f_value,current_state)=heappop(priority_queue)\n",
    "        total_number_of_discovered_states += 1\n",
    "        if(list(current_state)==initial_cube.goal_state.tolist()):\n",
    "            return total_number_of_discovered_states,f_value\n",
    "        current_state_array=np.array(current_state)\n",
    "        current_g_value=dictionary_g_function[current_state]\n",
    "        current_state_tuple=tuple(current_state_array)\n",
    "        discovered_states[current_state_tuple]=True\n",
    "        in_priority_queue.pop(current_state_tuple)\n",
    "        for move_number in range(6):\n",
    "            neigh_state=Cube.move_state(current_state_array,move_number)\n",
    "            neigh_state_tuple=tuple(neigh_state)\n",
    "            if(parents[current_state_tuple]==neigh_state_tuple):\n",
    "                continue\n",
    "            h_value=heuristic(neigh_state,goal_state)\n",
    "            new_g_value=current_g_value+1\n",
    "            f=new_g_value+h_value\n",
    "            if(neigh_state_tuple not in dictionary_g_function):\n",
    "                dictionary_g_function[neigh_state_tuple]=new_g_value\n",
    "                parents[neigh_state_tuple]=current_state_tuple\n",
    "                heappush(priority_queue,(f,neigh_state_tuple))\n",
    "                in_priority_queue[neigh_state_tuple]=None\n",
    "            else:\n",
    "                if(new_g_value < dictionary_g_function[neigh_state_tuple]):\n",
    "                    old_g= dictionary_g_function[neigh_state_tuple]\n",
    "                    if(neigh_state_tuple in in_priority_queue):\n",
    "                        index_current_neigh_state=priority_queue.index((old_g+h_value,\n",
    "                                                                        neigh_state_tuple))\n",
    "                        priority_queue[index_current_neigh_state] = (f,neigh_state_tuple)\n",
    "                        heapify(priority_queue)\n",
    "                    else:\n",
    "                        heappush(priority_queue,(f,neigh_state_tuple))\n",
    "                        in_priority_queue[neigh_state_tuple]=None\n",
    "                        parents[neigh_state_tuple]=current_state_tuple\n",
    "                    dictionary_g_function[neigh_state_tuple] = new_g_value"
   ]
  },
  {
   "cell_type": "code",
   "execution_count": 31,
   "id": "737462a8",
   "metadata": {},
   "outputs": [],
   "source": [
    "times_a_star_h3,states_a_star_h3,path_length_a_star_h3=[],[],[]\n",
    "for case in [case1,case2,case3,case4]:\n",
    "    start_time=time.time()\n",
    "    results_a_star=a_star(case,h3)\n",
    "    end_time=time.time()\n",
    "    times_a_star_h3.append(end_time-start_time)\n",
    "    states_a_star_h3.append(results_a_star[0])\n",
    "    path_length_a_star_h3.append(results_a_star[1])"
   ]
  },
  {
   "cell_type": "code",
   "execution_count": 32,
   "id": "e4af56e5",
   "metadata": {},
   "outputs": [
    {
     "data": {
      "image/png": "[encoded data removed]",
      "text/plain": [
       "<Figure size 640x480 with 1 Axes>"
      ]
     },
     "metadata": {},
     "output_type": "display_data"
    }
   ],
   "source": [
    "fig,ax=plt.subplots()\n",
    "ax.bar(np.arange(4),np.array(times_a_star_h3)*1000,label=\"A*\",width=0.25)\n",
    "ax.set_xticks(np.arange(4),np.array([\"case1\",\"case2\",\"case3\",\"case4\"]))\n",
    "ax.set_ylabel(\"Timp(ms)\")\n",
    "ax.legend()\n",
    "plt.yscale('log')\n",
    "plt.show()"
   ]
  },
  {
   "cell_type": "code",
   "execution_count": 33,
   "id": "4009b9be",
   "metadata": {},
   "outputs": [
    {
     "data": {
      "image/png": "[encoded data removed]",
      "text/plain": [
       "<Figure size 640x480 with 1 Axes>"
      ]
     },
     "metadata": {},
     "output_type": "display_data"
    }
   ],
   "source": [
    "fig,ax=plt.subplots()\n",
    "ax.bar(np.arange(4),np.array(states_a_star_h3),label=\"A*\",width=0.25)\n",
    "ax.set_xticks(np.arange(4),np.array([\"case1\",\"case2\",\"case3\",\"case4\"]))\n",
    "ax.set_ylabel(\"Numar de stari\")\n",
    "ax.legend()\n",
    "plt.yscale('log')\n",
    "plt.show()"
   ]
  },
  {
   "cell_type": "code",
   "execution_count": 34,
   "id": "1a586a3a",
   "metadata": {},
   "outputs": [
    {
     "data": {
      "image/png": "[encoded data removed]",
      "text/plain": [
       "<Figure size 640x480 with 1 Axes>"
      ]
     },
     "metadata": {},
     "output_type": "display_data"
    }
   ],
   "source": [
    "fig,ax=plt.subplots()\n",
    "ax.bar(np.arange(4),np.array(path_length_a_star_h3),label=\"A*\",width=0.25)\n",
    "ax.set_xticks(np.arange(4),np.array([\"case1\",\"case2\",\"case3\",\"case4\"]))\n",
    "ax.set_ylabel(\"Lungimea drumului\")\n",
    "ax.set_yticks(np.arange(12))\n",
    "ax.legend()\n",
    "plt.show()"
   ]
  },
  {
   "cell_type": "code",
   "execution_count": 11,
   "id": "e0003ff3",
   "metadata": {},
   "outputs": [],
   "source": [
    "# Constante\n",
    "\n",
    "N = 'N'\n",
    "Q = 'Q'\n",
    "PARENT = 'parent'\n",
    "ACTIONS = 'actions'"
   ]
  },
  {
   "cell_type": "code",
   "execution_count": 12,
   "id": "2170e1b3",
   "metadata": {},
   "outputs": [],
   "source": [
    "# Funcție ce întoarce un nod nou,\n",
    "def init_node(parent = None):\n",
    "    return {N: 0, Q: 0, PARENT: parent, ACTIONS: {}}"
   ]
  },
  {
   "cell_type": "code",
   "execution_count": 13,
   "id": "1c963892",
   "metadata": {},
   "outputs": [],
   "source": [
    "def select_action(node, c):\n",
    "    N_node = node[N]\n",
    "    actions_dictionary=node[ACTIONS]\n",
    "    maximum_expression=None\n",
    "    action_result=None\n",
    "    for action_id,child_node in actions_dictionary.items():\n",
    "        quality_child_node=child_node[Q]\n",
    "        simulations_child_node=child_node[N]\n",
    "        expr_result=quality_child_node/simulations_child_node+c*sqrt(2*log(N_node)/simulations_child_node)\n",
    "        if(maximum_expression==None):\n",
    "            maximum_expression=expr_result\n",
    "            action_result=action_id\n",
    "        else:\n",
    "            if(expr_result > maximum_expression):\n",
    "                maximum_expression=expr_result\n",
    "                action_result=action_id\n",
    "    return action_result"
   ]
  },
  {
   "cell_type": "code",
   "execution_count": 14,
   "id": "d551d375",
   "metadata": {},
   "outputs": [],
   "source": [
    "def get_available_actions(current_state:np.ndarray,discovered_states:dict):\n",
    "    available_actions=[]\n",
    "    for move_number in range(6):\n",
    "        new_state=Cube.move_state(current_state,move_number)\n",
    "        if(tuple(new_state) not in discovered_states):\n",
    "            available_actions.append(move_number)\n",
    "    return available_actions"
   ]
  },
  {
   "cell_type": "code",
   "execution_count": 22,
   "id": "cc3cdaf2",
   "metadata": {},
   "outputs": [],
   "source": [
    "def mcts(initial_state:np.ndarray,budget,c,final_state:np.ndarray,heuristic):\n",
    "    tree = init_node()\n",
    "    reached_final_state=False\n",
    "    number_of_states=1\n",
    "    discovered_states={tuple(initial_state):True}\n",
    "    path_length=0\n",
    "    can_break_budget_loop=False\n",
    "    for i in range(budget):\n",
    "        node = tree\n",
    "        current_state=initial_state\n",
    "        number_of_moves=0\n",
    "        budget_path_length=0\n",
    "        \"\"\"\n",
    "        Etapa de tree policy:\n",
    "        cat timp nu am ajuns inca la un nod frunza\n",
    "        daca la starea curenta nu avem toate nodurile expandate ne oprim\n",
    "        altfel, alegem cel mai bun nod\n",
    "        \"\"\"\n",
    "        while(node[ACTIONS]!={}):\n",
    "            if(get_available_actions(current_state,discovered_states)!=[]):\n",
    "                break\n",
    "            best_move=select_action(node,c)\n",
    "            current_state=Cube.move_state(current_state,best_move)\n",
    "            node=node[ACTIONS][best_move]\n",
    "            budget_path_length +=1\n",
    "        \"\"\"\n",
    "        Construim un nod pe baza unei actiuni alese aleator. \n",
    "        Trebuie sa nu fim in starea finala si sa mai avem noduri de explorat\n",
    "        \"\"\"\n",
    "        available_actions=get_available_actions(current_state,discovered_states)\n",
    "        if((current_state.tolist()!=final_state.tolist()) and available_actions):\n",
    "            random_move=choice(available_actions)\n",
    "            child_node=init_node(node)\n",
    "            current_state=Cube.move_state(current_state,random_move)\n",
    "            #legam noul nod copil de arbore\n",
    "            node[ACTIONS][random_move]=child_node\n",
    "            node=child_node\n",
    "            number_of_states +=1\n",
    "            discovered_states[tuple(current_state)]=True\n",
    "            budget_path_length +=1\n",
    "        if(current_state.tolist()==final_state.tolist()):\n",
    "            reached_final_state=True\n",
    "            path_length=budget_path_length\n",
    "        \"\"\"\n",
    "        Etapa default policy\n",
    "        Din nodul curent se simuleaza jocul, alegandu-se mutari in mod aleator\n",
    "        \"\"\"\n",
    "        maximum_value_reward=0\n",
    "        rollout_discovered_states=copy(discovered_states)\n",
    "        while((current_state.tolist()!=final_state.tolist()) and (number_of_moves<14)):\n",
    "            maximum_value_reward=max(maximum_value_reward,8.5-heuristic(current_state,final_state))\n",
    "            available_actions=get_available_actions(current_state,rollout_discovered_states)\n",
    "            if(available_actions==[]):\n",
    "                break\n",
    "            random_move=choice(available_actions)\n",
    "            current_state=Cube.move_state(current_state,random_move)\n",
    "            number_of_moves +=1\n",
    "            number_of_states+=1\n",
    "            rollout_discovered_states[tuple(current_state)]=True\n",
    "        maximum_value_reward=max(maximum_value_reward,8.5-heuristic(current_state,final_state))\n",
    "        reward=maximum_value_reward\n",
    "        while(node!=None):\n",
    "            node[N] += 1\n",
    "            node[Q] +=reward\n",
    "            node=node[PARENT]\n",
    "        if(reached_final_state==True):\n",
    "            break\n",
    "    if(reached_final_state):\n",
    "        return number_of_states,path_length\n",
    "    return None,None"
   ]
  },
  {
   "cell_type": "code",
   "execution_count": 23,
   "id": "8943dc77",
   "metadata": {},
   "outputs": [],
   "source": [
    "def run_mcts(budget,c,iterations,case,heuristic):\n",
    "    sum_path_length,sum_number_of_states,sum_total_time=0,0,0\n",
    "    successes=0\n",
    "    for i in range(iterations):\n",
    "        start_time=time.time()\n",
    "        number_of_states,path_length=mcts(Cube(case).state,budget,c,Cube(case).goal_state,heuristic)\n",
    "        end_time=time.time()\n",
    "        if(number_of_states and path_length):\n",
    "            sum_total_time += (end_time-start_time)\n",
    "            sum_path_length += path_length\n",
    "            sum_number_of_states+=number_of_states\n",
    "            successes+=1\n",
    "    if(successes!=0):\n",
    "        return sum_total_time/successes,sum_path_length/successes,sum_number_of_states/successes\n",
    "    return None\n",
    "\n",
    "def get_measurements(heuristic):\n",
    "    measurements_array=np.zeros((4,3,2,4))\n",
    "    for k,case in enumerate([case1,case2,case3,case4]):\n",
    "        for i,c in enumerate([0.1,0.5]):\n",
    "            for j,budget in enumerate([1000,5000,10000,20000]):\n",
    "                print(\"Right now\",case,\"c=\",c,\"budget=\",budget)\n",
    "                result_mcts=run_mcts(budget,c,25,case,heuristic)\n",
    "                if(result_mcts):\n",
    "                    measurements_array[k][0][i][j]=result_mcts[0]\n",
    "                    measurements_array[k][1][i][j]=result_mcts[1]\n",
    "                    measurements_array[k][2][i][j]=result_mcts[2]\n",
    "    return measurements_array"
   ]
  },
  {
   "cell_type": "code",
   "execution_count": 28,
   "id": "e66ce4c7",
   "metadata": {},
   "outputs": [
    {
     "name": "stdout",
     "output_type": "stream",
     "text": [
      "Right now R U' R' F' U c= 0.1 budget= 1000\n",
      "Right now R U' R' F' U c= 0.1 budget= 5000\n",
      "Right now R U' R' F' U c= 0.1 budget= 10000\n",
      "Right now R U' R' F' U c= 0.1 budget= 20000\n",
      "Right now R U' R' F' U c= 0.5 budget= 1000\n",
      "Right now R U' R' F' U c= 0.5 budget= 5000\n",
      "Right now R U' R' F' U c= 0.5 budget= 10000\n",
      "Right now R U' R' F' U c= 0.5 budget= 20000\n",
      "Right now F' R U R U F' U' c= 0.1 budget= 1000\n",
      "Right now F' R U R U F' U' c= 0.1 budget= 5000\n",
      "Right now F' R U R U F' U' c= 0.1 budget= 10000\n",
      "Right now F' R U R U F' U' c= 0.1 budget= 20000\n",
      "Right now F' R U R U F' U' c= 0.5 budget= 1000\n",
      "Right now F' R U R U F' U' c= 0.5 budget= 5000\n",
      "Right now F' R U R U F' U' c= 0.5 budget= 10000\n",
      "Right now F' R U R U F' U' c= 0.5 budget= 20000\n",
      "Right now F U U F' U' R R F' R c= 0.1 budget= 1000\n",
      "Right now F U U F' U' R R F' R c= 0.1 budget= 5000\n",
      "Right now F U U F' U' R R F' R c= 0.1 budget= 10000\n",
      "Right now F U U F' U' R R F' R c= 0.1 budget= 20000\n",
      "Right now F U U F' U' R R F' R c= 0.5 budget= 1000\n",
      "Right now F U U F' U' R R F' R c= 0.5 budget= 5000\n",
      "Right now F U U F' U' R R F' R c= 0.5 budget= 10000\n",
      "Right now F U U F' U' R R F' R c= 0.5 budget= 20000\n",
      "Right now U' R U' F' R F F U' F U U c= 0.1 budget= 1000\n",
      "Right now U' R U' F' R F F U' F U U c= 0.1 budget= 5000\n",
      "Right now U' R U' F' R F F U' F U U c= 0.1 budget= 10000\n",
      "Right now U' R U' F' R F F U' F U U c= 0.1 budget= 20000\n",
      "Right now U' R U' F' R F F U' F U U c= 0.5 budget= 1000\n",
      "Right now U' R U' F' R F F U' F U U c= 0.5 budget= 5000\n",
      "Right now U' R U' F' R F F U' F U U c= 0.5 budget= 10000\n",
      "Right now U' R U' F' R F F U' F U U c= 0.5 budget= 20000\n"
     ]
    }
   ],
   "source": [
    "measurements_h3=get_measurements(h3)"
   ]
  },
  {
   "cell_type": "code",
   "execution_count": 42,
   "id": "d6e686cb",
   "metadata": {},
   "outputs": [
    {
     "data": {
      "text/plain": [
       "array([[   0.        ,  125.99992752,   42.00077057,   53.00045013],\n",
       "       [ 450.99937916, 1934.23817708, 4823.37318361, 7658.56989225]])"
      ]
     },
     "execution_count": 42,
     "metadata": {},
     "output_type": "execute_result"
    }
   ],
   "source": [
    "measurements_h3[0][0]*1000"
   ]
  },
  {
   "cell_type": "code",
   "execution_count": 43,
   "id": "bb748bc3",
   "metadata": {},
   "outputs": [
    {
     "data": {
      "text/plain": [
       "array([[    0.        ,     0.        ,     0.        ,   102.53667831],\n",
       "       [    0.        ,     0.        ,  1827.33337084, 27126.00064278]])"
      ]
     },
     "execution_count": 43,
     "metadata": {},
     "output_type": "execute_result"
    }
   ],
   "source": [
    "measurements_h3[1][0]*1000"
   ]
  },
  {
   "cell_type": "code",
   "execution_count": 44,
   "id": "205e5eb3",
   "metadata": {},
   "outputs": [
    {
     "data": {
      "text/plain": [
       "array([[0., 0., 0., 0.],\n",
       "       [0., 0., 0., 0.]])"
      ]
     },
     "execution_count": 44,
     "metadata": {},
     "output_type": "execute_result"
    }
   ],
   "source": [
    "measurements_h3[2][0]*1000"
   ]
  },
  {
   "cell_type": "code",
   "execution_count": 45,
   "id": "d2ea66e6",
   "metadata": {},
   "outputs": [
    {
     "data": {
      "text/plain": [
       "array([[0., 0., 0., 0.],\n",
       "       [0., 0., 0., 0.]])"
      ]
     },
     "execution_count": 45,
     "metadata": {},
     "output_type": "execute_result"
    }
   ],
   "source": [
    "measurements_h3[3][0]*1000"
   ]
  },
  {
   "cell_type": "code",
   "execution_count": 40,
   "id": "0dcb880b",
   "metadata": {},
   "outputs": [
    {
     "data": {
      "text/plain": [
       "7753.227949142456"
      ]
     },
     "execution_count": 40,
     "metadata": {},
     "output_type": "execute_result"
    }
   ],
   "source": [
    "times_a_star_h3[2]*1000"
   ]
  }
 ],
 "metadata": {
  "kernelspec": {
   "display_name": "Python 3 (ipykernel)",
   "language": "python",
   "name": "python3"
  },
  "language_info": {
   "codemirror_mode": {
    "name": "ipython",
    "version": 3
   },
   "file_extension": ".py",
   "mimetype": "text/x-python",
   "name": "python",
   "nbconvert_exporter": "python",
   "pygments_lexer": "ipython3",
   "version": "3.10.13"
  }
 },
 "nbformat": 4,
 "nbformat_minor": 5
}
